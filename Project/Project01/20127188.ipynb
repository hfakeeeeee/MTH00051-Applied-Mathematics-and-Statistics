{
 "cells": [
  {
   "cell_type": "markdown",
   "metadata": {},
   "source": [
    "<font style = \"font-size: 30px\">*Import thư viện*<font>"
   ]
  },
  {
   "cell_type": "code",
   "execution_count": 76,
   "metadata": {},
   "outputs": [],
   "source": [
    "import matplotlib.pyplot as plt\n",
    "import numpy as np\n",
    "import PIL\n",
    "from PIL import Image \n"
   ]
  },
  {
   "cell_type": "markdown",
   "metadata": {},
   "source": [
    "<font style = \"font-size: 30px\">*Viết thuật toán K-Means*<font>"
   ]
  },
  {
   "cell_type": "code",
   "execution_count": 118,
   "metadata": {},
   "outputs": [],
   "source": [
    "def kmeans(img_1d, k_clusters, max_iter, init_centroids='random'):\n",
    "    centroids = []\n",
    "    if init_centroids == 'random':\n",
    "        centroids = np.random.randint(255, size = (k_clusters, img_1d.shape[1]))\n",
    "    elif init_centroids == 'in_pixels':\n",
    "        for i in range(k_clusters):\n",
    "            list = []\n",
    "            for _ in range(len(img_1d[0])):\n",
    "                centroid_random = np.random.randint(0, 255)\n",
    "                list.append(centroid_random)\n",
    "            centroids.append(list)\n",
    "\n",
    "    distance = []\n",
    "    for i in img_1d:\n",
    "        dist = []\n",
    "        for j in centroids:\n",
    "            dist.append(np.linalg.norm(j - i))\n",
    "        distance.append(dist)\n",
    "\n",
    "    labels = []\n",
    "\n",
    "    for i in range(len(distance)):\n",
    "        index = minimun(distance[i]) \n",
    "        labels.append(index)\n",
    "\n",
    "    while max_iter > 0:\n",
    "        new_centroids = []\n",
    "        for i in range(len(centroids)):\n",
    "            new_centroids += [np.mean(img_1d[np.array(labels) == i], axis = 0)]\n",
    "        distance = []\n",
    "        for i in img_1d:\n",
    "            dist = []\n",
    "            for j in new_centroids:\n",
    "                dist.append(np.linalg.norm(j - i))\n",
    "            distance.append(dist)\n",
    "\n",
    "        labels = []\n",
    "        for i in range(len(distance)):\n",
    "            index = minimun(distance[i]) \n",
    "            labels.append(index)               \n",
    "        max_iter -= 1\n",
    "\n",
    "    return new_centroids, labels"
   ]
  },
  {
   "cell_type": "markdown",
   "metadata": {},
   "source": [
    "<font style = \"font-size: 30px\">*Hàm tìm vị trí Min*<font>"
   ]
  },
  {
   "cell_type": "code",
   "execution_count": 104,
   "metadata": {},
   "outputs": [],
   "source": [
    "def minimun(list):\n",
    "    minimin = list[0]\n",
    "    index = 0\n",
    "    for i in range(1, len(list)):\n",
    "        if list[i] < minimin:\n",
    "            index = i\n",
    "            minimin = list[i]\n",
    "    return index"
   ]
  },
  {
   "cell_type": "markdown",
   "metadata": {},
   "source": [
    "<font style = \"font-size: 30px\">*Hàm main*<font>"
   ]
  },
  {
   "cell_type": "code",
   "execution_count": 124,
   "metadata": {},
   "outputs": [],
   "source": [
    "def Pixels():\n",
    "    file = input(\"Nhap ten file: \")\n",
    "    file_type = input(\"Kieu du lieu can xuat: \")\n",
    "    k_clusters = [3, 5, 7]\n",
    "    for i in range(len(k_clusters)):\n",
    "        image = Image.open(file).convert(\"RGB\")\n",
    "        image = np.array(image)\n",
    "        height, width, channel = image.shape[0], image.shape[1], image.shape[2]\n",
    "        image = image.reshape(height * width, channel)\n",
    "        centroids, labels = kmeans(image, k_clusters[i], 30, 'in_pixels')\n",
    "        for j in range(image.shape[0]):\n",
    "            image[j] = centroids[labels[j]]\n",
    "        data = image.reshape(height, width, channel)\n",
    "        plt.imshow(data)\n",
    "        plt.imsave(\"cluster - \" + str(k_clusters[i]) + \" - in-pixels\" + \".\" + file_type, data)\n"
   ]
  },
  {
   "cell_type": "code",
   "execution_count": 125,
   "metadata": {},
   "outputs": [],
   "source": [
    "def Random():\n",
    "    file = input(\"Nhap ten file: \")\n",
    "    file_type = input(\"Kieu du lieu can xuat: \")\n",
    "    k_clusters = [3, 5, 7]\n",
    "    for i in range(len(k_clusters)):\n",
    "        image = Image.open(file).convert(\"RGB\")\n",
    "        image = np.array(image)\n",
    "        height, width, channel = image.shape[0], image.shape[1], image.shape[2]\n",
    "        image = image.reshape(height * width, channel)\n",
    "        centroids, labels = kmeans(image, k_clusters[i], 30, 'random')\n",
    "        for j in range(image.shape[0]):\n",
    "            image[j] = centroids[labels[j]]\n",
    "        data = image.reshape(height, width, channel)\n",
    "        plt.imshow(data)\n",
    "        plt.imsave(\"cluster - \" + str(k_clusters[i]) + \" - random\" + \".\" + file_type, data)\n"
   ]
  },
  {
   "cell_type": "code",
   "execution_count": null,
   "metadata": {},
   "outputs": [],
   "source": [
    "Random()"
   ]
  },
  {
   "cell_type": "code",
   "execution_count": null,
   "metadata": {},
   "outputs": [],
   "source": [
    "Pixels()"
   ]
  }
 ],
 "metadata": {
  "kernelspec": {
   "display_name": "Python 3.9.12 ('base')",
   "language": "python",
   "name": "python3"
  },
  "language_info": {
   "codemirror_mode": {
    "name": "ipython",
    "version": 3
   },
   "file_extension": ".py",
   "mimetype": "text/x-python",
   "name": "python",
   "nbconvert_exporter": "python",
   "pygments_lexer": "ipython3",
   "version": "3.9.12"
  },
  "orig_nbformat": 4,
  "vscode": {
   "interpreter": {
    "hash": "04260a692bb2fccc11702e13e59beaeb580a87d1e54fb89b7f3e9c339504d3c0"
   }
  }
 },
 "nbformat": 4,
 "nbformat_minor": 2
}
