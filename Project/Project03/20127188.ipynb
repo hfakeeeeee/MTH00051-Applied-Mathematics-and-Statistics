{
 "cells": [
  {
   "cell_type": "markdown",
   "metadata": {},
   "source": [
    "# <center>Đồ án 3: Linear Regression</center>"
   ]
  },
  {
   "cell_type": "markdown",
   "metadata": {},
   "source": [
    "# Thông tin sinh viên\n",
    "\n",
    "- Họ và tên: Nguyễn Quốc Huy\n",
    "- MSSV: 20127188\n",
    "- Lớp: 20CLC2"
   ]
  },
  {
   "cell_type": "markdown",
   "metadata": {},
   "source": [
    "# Import"
   ]
  },
  {
   "cell_type": "code",
   "execution_count": 12,
   "metadata": {},
   "outputs": [],
   "source": [
    "import pandas as pd\n",
    "import numpy as np\n",
    "from sklearn import model_selection\n",
    "\n",
    "# Import thêm dữ thư viện nếu cần"
   ]
  },
  {
   "cell_type": "markdown",
   "metadata": {},
   "source": [
    "# Đọc dữ liệu"
   ]
  },
  {
   "cell_type": "code",
   "execution_count": 2,
   "metadata": {},
   "outputs": [],
   "source": [
    "# Đọc dữ liệu bằng pandas\n",
    "train = pd.read_csv('train.csv')\n",
    "test = pd.read_csv('test.csv')\n",
    "\n",
    "# Lấy các đặc trưng X và giá trị mục tiêu y cho các tập huấn luyện (train) và kiểm tra (test)\n",
    "X_train = train.iloc[:, :-1]    # Dataframe (chứa 10 đặc trưng huấn luyện)\n",
    "y_train = train.iloc[:, -1]     # Series    (chứa 1 giá trị mục tiêu kiểm tra)\n",
    "\n",
    "X_test = test.iloc[:, :-1]      # Dataframe (chứa 10 đặc trưng kiểm tra)\n",
    "y_test = test.iloc[:, -1]       # Series    (chứa 1 giá trị mục tiêu kiểm tra)\n",
    "\n",
    "# Sinh viên có thể sử dụng các khác nếu cần"
   ]
  },
  {
   "cell_type": "markdown",
   "metadata": {},
   "source": [
    "# Cài đặt hàm"
   ]
  },
  {
   "cell_type": "code",
   "execution_count": 3,
   "metadata": {},
   "outputs": [],
   "source": [
    "class OLSLinearRegression:\n",
    "    def fit(self, X, y):\n",
    "        X_pinv = np.linalg.inv(X.T @ X) @ X.T    # np.linalg.pinv(X)\n",
    "        self.w = X_pinv @ y\n",
    "\n",
    "        return self\n",
    "\n",
    "\n",
    "    def get_params(self):\n",
    "        return self.w\n",
    "\n",
    "\n",
    "    def predict(self, X):\n",
    "        return np.sum(self.w.ravel() * X, axis=1)   "
   ]
  },
  {
   "cell_type": "code",
   "execution_count": 4,
   "metadata": {},
   "outputs": [],
   "source": [
    "def mse(y, y_hat):\n",
    "    return np.mean((y.ravel() - y_hat.ravel())**2)"
   ]
  },
  {
   "cell_type": "markdown",
   "metadata": {},
   "source": [
    "# Yêu cầu 1a: Sử dụng toàn bộ 10 đặc trưng đề bài cung cấp (2 điểm) "
   ]
  },
  {
   "cell_type": "code",
   "execution_count": 5,
   "metadata": {},
   "outputs": [],
   "source": [
    "def task_a(X_train, y_train, X_test, y_test):\n",
    "    weight = OLSLinearRegression().fit(X_train, y_train)\n",
    "    y_predict = weight.predict(X_test)\n",
    "    return np.sqrt(mse(y_test, y_predict)), np.array(weight.get_params())\n"
   ]
  },
  {
   "cell_type": "code",
   "execution_count": 8,
   "metadata": {},
   "outputs": [
    {
     "name": "stdout",
     "output_type": "stream",
     "text": [
      "RMSE =  7.0640464305840505\n",
      "Weight: [ 1.51013627e-02  9.02199807e-02  4.29218175e-02  1.39289117e-01\n",
      " -5.67332827e-01 -1.00765115e-04  7.40713438e-01  1.90935798e-01\n",
      "  2.45059736e+01  2.39351661e+00]\n"
     ]
    }
   ],
   "source": [
    "RMSE, weight = task_a(X_train, y_train, X_test, y_test)\n",
    "print('RMSE = ', RMSE)\n",
    "print('Weight:', weight)"
   ]
  },
  {
   "cell_type": "markdown",
   "metadata": {},
   "source": [
    "<p style=\"text-align:center;\"><b>Công thức hồi quy</p>\n",
    "\n",
    "Life expectancy = 0.0151013627 * Adult Mortality + 0.0902199807 * BMI + 0.0429218175 * Polio + 0.139289117 * Diphtheria + (-0.567332827) * HIV/AIDS + (-0.000100765115) * GDP + 0.740713438 * Thinness age 10-19 + 0.190935798 * Thinness age 5-9 + 0.245059736 * Income composition of resources + 2.39351661 * Schooling"
   ]
  },
  {
   "cell_type": "markdown",
   "metadata": {},
   "source": [
    "# Yêu cầu 1b: Xây dựng mô hình sử dụng duy nhất 1 đặc trưng, tìm mô hình cho kết quả tốt nhất (2 điểm)"
   ]
  },
  {
   "cell_type": "markdown",
   "metadata": {},
   "source": [
    "Lưu ý: khi sử dụng cross-validation, sinh viên cần xáo trộn dữ liệu 1 lần duy nhất và thực hiện trên toàn bộ đặc trưng"
   ]
  },
  {
   "cell_type": "code",
   "execution_count": 6,
   "metadata": {},
   "outputs": [],
   "source": [
    "def task_b(X, y):\n",
    "    arr_w = np.zeros(train.shape[1] - 1)\n",
    "    arr_r = np.zeros(train.shape[1] - 1)\n",
    "\n",
    "    for train_s, test_s in model_selection.KFold(n_splits = 5, shuffle = True).split(X):\n",
    "        index = 0\n",
    "        for i in range(0, 10):\n",
    "            train_feature = X.iloc[train_s, i:i + 1]\n",
    "            train_label = y.iloc[train_s]\n",
    "\n",
    "            test_feature = X.iloc[test_s, i:i + 1]\n",
    "            test_label = y.iloc[test_s]\n",
    "\n",
    "            rmse, weight = task_a(train_feature, train_label, test_feature, test_label)\n",
    "\n",
    "            arr_r[index] += rmse\n",
    "            arr_w[index] += weight\n",
    "            index += 1\n",
    "\n",
    "    index_min = np.min(arr_r)\n",
    "    for i in range(0, 10):\n",
    "        if(arr_r[i] == index_min):\n",
    "            position = i\n",
    "    min = X_train.columns[position]\n",
    "    return arr_r/5, arr_w/5, min"
   ]
  },
  {
   "cell_type": "code",
   "execution_count": 7,
   "metadata": {},
   "outputs": [
    {
     "name": "stdout",
     "output_type": "stream",
     "text": [
      "\n",
      "Weight:  [2.47853709e-01 1.50572781e+00 7.85644849e-01 7.84454360e-01\n",
      " 3.58571931e+00 3.03019663e-03 6.92955048e+00 6.88083517e+00\n",
      " 1.04706939e+02 5.55740908e+00] \n",
      "Min RMSE =  11.761702307064917 \n",
      "Best feature:  Schooling\n"
     ]
    },
    {
     "data": {
      "text/html": [
       "<div>\n",
       "<style scoped>\n",
       "    .dataframe tbody tr th:only-of-type {\n",
       "        vertical-align: middle;\n",
       "    }\n",
       "\n",
       "    .dataframe tbody tr th {\n",
       "        vertical-align: top;\n",
       "    }\n",
       "\n",
       "    .dataframe thead th {\n",
       "        text-align: right;\n",
       "    }\n",
       "</style>\n",
       "<table border=\"1\" class=\"dataframe\">\n",
       "  <thead>\n",
       "    <tr style=\"text-align: right;\">\n",
       "      <th></th>\n",
       "      <th>Đặc trưng</th>\n",
       "      <th>RMSE</th>\n",
       "    </tr>\n",
       "  </thead>\n",
       "  <tbody>\n",
       "    <tr>\n",
       "      <th>0</th>\n",
       "      <td>Adult Mortality</td>\n",
       "      <td>46.259784</td>\n",
       "    </tr>\n",
       "    <tr>\n",
       "      <th>1</th>\n",
       "      <td>BMI</td>\n",
       "      <td>27.957454</td>\n",
       "    </tr>\n",
       "    <tr>\n",
       "      <th>2</th>\n",
       "      <td>Polio</td>\n",
       "      <td>17.938079</td>\n",
       "    </tr>\n",
       "    <tr>\n",
       "      <th>3</th>\n",
       "      <td>Diphtheria</td>\n",
       "      <td>16.052544</td>\n",
       "    </tr>\n",
       "    <tr>\n",
       "      <th>4</th>\n",
       "      <td>HIV/AIDS</td>\n",
       "      <td>67.061835</td>\n",
       "    </tr>\n",
       "    <tr>\n",
       "      <th>5</th>\n",
       "      <td>GDP</td>\n",
       "      <td>60.256001</td>\n",
       "    </tr>\n",
       "    <tr>\n",
       "      <th>6</th>\n",
       "      <td>Thinness age 10-19</td>\n",
       "      <td>51.789394</td>\n",
       "    </tr>\n",
       "    <tr>\n",
       "      <th>7</th>\n",
       "      <td>Thinness age 5-9</td>\n",
       "      <td>51.690806</td>\n",
       "    </tr>\n",
       "    <tr>\n",
       "      <th>8</th>\n",
       "      <td>Income composition of resources</td>\n",
       "      <td>13.314031</td>\n",
       "    </tr>\n",
       "    <tr>\n",
       "      <th>9</th>\n",
       "      <td>Schooling</td>\n",
       "      <td>11.761702</td>\n",
       "    </tr>\n",
       "  </tbody>\n",
       "</table>\n",
       "</div>"
      ],
      "text/plain": [
       "                         Đặc trưng       RMSE\n",
       "0                  Adult Mortality  46.259784\n",
       "1                              BMI  27.957454\n",
       "2                            Polio  17.938079\n",
       "3                       Diphtheria  16.052544\n",
       "4                         HIV/AIDS  67.061835\n",
       "5                              GDP  60.256001\n",
       "6               Thinness age 10-19  51.789394\n",
       "7                 Thinness age 5-9  51.690806\n",
       "8  Income composition of resources  13.314031\n",
       "9                        Schooling  11.761702"
      ]
     },
     "execution_count": 7,
     "metadata": {},
     "output_type": "execute_result"
    }
   ],
   "source": [
    "rmse, weight, min = task_b(X_train, y_train)\n",
    "min_r = np.min(rmse)\n",
    "RMSE = []\n",
    "for i in range (0, 10):\n",
    "    row=[]\n",
    "    row.append(X_train.keys()[i])\n",
    "    row.append(rmse[i])\n",
    "    RMSE.append(row)\n",
    "        \n",
    "print(\"\\nWeight: \", weight,\"\\nMin RMSE = \", min_r , \"\\nBest feature: \", min)\n",
    "pd.DataFrame(RMSE,columns=['Đặc trưng','RMSE'])"
   ]
  },
  {
   "cell_type": "code",
   "execution_count": 59,
   "metadata": {},
   "outputs": [
    {
     "name": "stdout",
     "output_type": "stream",
     "text": [
      "10.260950391655376\n",
      "[5.5573994]\n"
     ]
    }
   ],
   "source": [
    "rmse_2, w = task_a(X_train.iloc[:,9:10], y_train, X_test.iloc[:,9:10], y_test)\n",
    "print(rmse_2)\n",
    "print(w)"
   ]
  },
  {
   "cell_type": "markdown",
   "metadata": {},
   "source": [
    "Công thức hồi quy\n",
    "\n",
    "$$\\text{Life expectancy} = 5.5573994 * \\text{Schooling} $$"
   ]
  },
  {
   "cell_type": "markdown",
   "metadata": {},
   "source": [
    "# Yêu cầu 1c: Sinh viên tự xây dựng mô hình, tìm mô hình cho kết quả tốt nhất (3 điểm)"
   ]
  },
  {
   "cell_type": "markdown",
   "metadata": {},
   "source": [
    "Lưu ý: khi sử dụng cross-validation, sinh viên cần xáo trộn dữ liệu 1 lần duy nhất và thực hiện trên toàn bộ $m$ mô hình mà sinh viên thiết kế"
   ]
  },
  {
   "cell_type": "code",
   "execution_count": 60,
   "metadata": {},
   "outputs": [],
   "source": [
    "model = []\n",
    "model_2 = []\n",
    "index = []\n",
    "for i in range(2,10):\n",
    "    model.append(X_train.iloc[:,0:i])\n",
    "    model_2.append(X_train.iloc[:,0:i]**3)\n",
    "    index.append(i)"
   ]
  },
  {
   "cell_type": "code",
   "execution_count": 10,
   "metadata": {},
   "outputs": [],
   "source": [
    "def task_c(X, y):\n",
    "    arr_r = []\n",
    "\n",
    "    for train_split, test_split in model_selection.KFold(n_splits = 5, shuffle = True).split(X):\n",
    "        feature_train = X.iloc[train_split]\n",
    "        label_train = y.iloc[train_split]\n",
    "\n",
    "        feature_test = X.iloc[test_split]\n",
    "        label_test = y.iloc[test_split]\n",
    "\n",
    "        rmse, weight = task_a(feature_train, label_train, feature_test, label_test)\n",
    "\n",
    "        arr_r.append(rmse)\n",
    "\n",
    "    return np.mean(arr_r)"
   ]
  },
  {
   "cell_type": "code",
   "execution_count": 61,
   "metadata": {},
   "outputs": [
    {
     "name": "stdout",
     "output_type": "stream",
     "text": [
      "RMSE =  8.735078128055042\n"
     ]
    }
   ],
   "source": [
    "arr_m = []\n",
    "arr_m2 = []\n",
    "for i in model:\n",
    "    RMSE = task_c(i, y_train)\n",
    "    arr_m.append(RMSE)\n",
    "for i in model_2:\n",
    "    RMSE = task_c(i, y_train)\n",
    "    arr_m.append(RMSE)\n",
    "best_model = np.min(arr_m)\n",
    "print(\"RMSE = \", best_model)\n"
   ]
  },
  {
   "cell_type": "code",
   "execution_count": 70,
   "metadata": {},
   "outputs": [
    {
     "data": {
      "text/html": [
       "<style type=\"text/css\">\n",
       "#T_74088 th {\n",
       "  text-align: center;\n",
       "}\n",
       "#T_74088_row0_col0, #T_74088_row0_col1, #T_74088_row1_col0, #T_74088_row1_col1, #T_74088_row2_col0, #T_74088_row2_col1, #T_74088_row3_col0, #T_74088_row3_col1, #T_74088_row4_col0, #T_74088_row4_col1, #T_74088_row5_col0, #T_74088_row5_col1, #T_74088_row6_col0, #T_74088_row6_col1, #T_74088_row7_col0, #T_74088_row7_col1, #T_74088_row8_col0, #T_74088_row8_col1, #T_74088_row9_col0, #T_74088_row9_col1, #T_74088_row10_col0, #T_74088_row10_col1, #T_74088_row11_col0, #T_74088_row11_col1, #T_74088_row12_col0, #T_74088_row12_col1, #T_74088_row13_col0, #T_74088_row13_col1, #T_74088_row14_col0, #T_74088_row14_col1, #T_74088_row15_col0, #T_74088_row15_col1 {\n",
       "  text-align: center;\n",
       "}\n",
       "</style>\n",
       "<table id=\"T_74088\">\n",
       "  <thead>\n",
       "    <tr>\n",
       "      <th class=\"blank level0\" >&nbsp;</th>\n",
       "      <th id=\"T_74088_level0_col0\" class=\"col_heading level0 col0\" >Mô hình</th>\n",
       "      <th id=\"T_74088_level0_col1\" class=\"col_heading level0 col1\" >RMSE</th>\n",
       "    </tr>\n",
       "  </thead>\n",
       "  <tbody>\n",
       "    <tr>\n",
       "      <th id=\"T_74088_level0_row0\" class=\"row_heading level0 row0\" >0</th>\n",
       "      <td id=\"T_74088_row0_col0\" class=\"data row0 col0\" >2 đặc trưng(Adult Mortality,BMI)</td>\n",
       "      <td id=\"T_74088_row0_col1\" class=\"data row0 col1\" >22.623468</td>\n",
       "    </tr>\n",
       "    <tr>\n",
       "      <th id=\"T_74088_level0_row1\" class=\"row_heading level0 row1\" >1</th>\n",
       "      <td id=\"T_74088_row1_col0\" class=\"data row1 col0\" >3 đặc trưng(Adult Mortality,BMI,Polio)</td>\n",
       "      <td id=\"T_74088_row1_col1\" class=\"data row1 col1\" >14.964050</td>\n",
       "    </tr>\n",
       "    <tr>\n",
       "      <th id=\"T_74088_level0_row2\" class=\"row_heading level0 row2\" >2</th>\n",
       "      <td id=\"T_74088_row2_col0\" class=\"data row2 col0\" >4 đặc trưng(Adult Mortality,BMI,Polio,Diphtheria)</td>\n",
       "      <td id=\"T_74088_row2_col1\" class=\"data row2 col1\" >13.147579</td>\n",
       "    </tr>\n",
       "    <tr>\n",
       "      <th id=\"T_74088_level0_row3\" class=\"row_heading level0 row3\" >3</th>\n",
       "      <td id=\"T_74088_row3_col0\" class=\"data row3 col0\" >5 đặc trưng(Adult Mortality, BMI, Polio, Diphtheria, HIV/AIDS)</td>\n",
       "      <td id=\"T_74088_row3_col1\" class=\"data row3 col1\" >12.990777</td>\n",
       "    </tr>\n",
       "    <tr>\n",
       "      <th id=\"T_74088_level0_row4\" class=\"row_heading level0 row4\" >4</th>\n",
       "      <td id=\"T_74088_row4_col0\" class=\"data row4 col0\" >6 đặc trưng(Adult Mortality, BMI, Polio, Diphtheria, HIV/AIDS, GDP)</td>\n",
       "      <td id=\"T_74088_row4_col1\" class=\"data row4 col1\" >12.891247</td>\n",
       "    </tr>\n",
       "    <tr>\n",
       "      <th id=\"T_74088_level0_row5\" class=\"row_heading level0 row5\" >5</th>\n",
       "      <td id=\"T_74088_row5_col0\" class=\"data row5 col0\" >7 đặc trưng(Adult Mortality, BMI, Polio, Diphtheria, HIV/AIDS, GDP, Thinness age 10-19)</td>\n",
       "      <td id=\"T_74088_row5_col1\" class=\"data row5 col1\" >11.675221</td>\n",
       "    </tr>\n",
       "    <tr>\n",
       "      <th id=\"T_74088_level0_row6\" class=\"row_heading level0 row6\" >6</th>\n",
       "      <td id=\"T_74088_row6_col0\" class=\"data row6 col0\" >8 đặc trưng(Adult Mortality, BMI, Polio, Diphtheria, HIV/AIDS, GDP, Thinness age 10-19, Thinness age 5-9)</td>\n",
       "      <td id=\"T_74088_row6_col1\" class=\"data row6 col1\" >11.539536</td>\n",
       "    </tr>\n",
       "    <tr>\n",
       "      <th id=\"T_74088_level0_row7\" class=\"row_heading level0 row7\" >7</th>\n",
       "      <td id=\"T_74088_row7_col0\" class=\"data row7 col0\" >9 đặc trưng(Adult Mortality, BMI, Polio, Diphtheria, HIV/AIDS, GDP, Thinness age 10-19, Thinness age 5-9, Income composition of resources)</td>\n",
       "      <td id=\"T_74088_row7_col1\" class=\"data row7 col1\" >8.735078</td>\n",
       "    </tr>\n",
       "    <tr>\n",
       "      <th id=\"T_74088_level0_row8\" class=\"row_heading level0 row8\" >8</th>\n",
       "      <td id=\"T_74088_row8_col0\" class=\"data row8 col0\" >2 đặc trưng(Adult Mortality,BMI) mũ 3</td>\n",
       "      <td id=\"T_74088_row8_col1\" class=\"data row8 col1\" >39.418300</td>\n",
       "    </tr>\n",
       "    <tr>\n",
       "      <th id=\"T_74088_level0_row9\" class=\"row_heading level0 row9\" >9</th>\n",
       "      <td id=\"T_74088_row9_col0\" class=\"data row9 col0\" >3 đặc trưng(Adult Mortality,BMI,Polio) mũ 3</td>\n",
       "      <td id=\"T_74088_row9_col1\" class=\"data row9 col1\" >23.246128</td>\n",
       "    </tr>\n",
       "    <tr>\n",
       "      <th id=\"T_74088_level0_row10\" class=\"row_heading level0 row10\" >10</th>\n",
       "      <td id=\"T_74088_row10_col0\" class=\"data row10 col0\" >4 đặc trưng(Adult Mortality,BMI,Polio,Diphtheria) mũ 3</td>\n",
       "      <td id=\"T_74088_row10_col1\" class=\"data row10 col1\" >21.572479</td>\n",
       "    </tr>\n",
       "    <tr>\n",
       "      <th id=\"T_74088_level0_row11\" class=\"row_heading level0 row11\" >11</th>\n",
       "      <td id=\"T_74088_row11_col0\" class=\"data row11 col0\" >5 đặc trưng(Adult Mortality, BMI, Polio, Diphtheria, HIV/AIDS) mũ 3</td>\n",
       "      <td id=\"T_74088_row11_col1\" class=\"data row11 col1\" >21.456716</td>\n",
       "    </tr>\n",
       "    <tr>\n",
       "      <th id=\"T_74088_level0_row12\" class=\"row_heading level0 row12\" >12</th>\n",
       "      <td id=\"T_74088_row12_col0\" class=\"data row12 col0\" >6 đặc trưng(Adult Mortality, BMI, Polio, Diphtheria, HIV/AIDS, GDP) mũ 3</td>\n",
       "      <td id=\"T_74088_row12_col1\" class=\"data row12 col1\" >21.466164</td>\n",
       "    </tr>\n",
       "    <tr>\n",
       "      <th id=\"T_74088_level0_row13\" class=\"row_heading level0 row13\" >13</th>\n",
       "      <td id=\"T_74088_row13_col0\" class=\"data row13 col0\" >7 đặc trưng(Adult Mortality, BMI, Polio, Diphtheria, HIV/AIDS, GDP, Thinness age 10-19) mũ 3</td>\n",
       "      <td id=\"T_74088_row13_col1\" class=\"data row13 col1\" >20.378760</td>\n",
       "    </tr>\n",
       "    <tr>\n",
       "      <th id=\"T_74088_level0_row14\" class=\"row_heading level0 row14\" >14</th>\n",
       "      <td id=\"T_74088_row14_col0\" class=\"data row14 col0\" >8 đặc trưng(Adult Mortality, BMI, Polio, Diphtheria, HIV/AIDS, GDP, Thinness age 10-19, Thinness age 5-9) mũ 3</td>\n",
       "      <td id=\"T_74088_row14_col1\" class=\"data row14 col1\" >20.301298</td>\n",
       "    </tr>\n",
       "    <tr>\n",
       "      <th id=\"T_74088_level0_row15\" class=\"row_heading level0 row15\" >15</th>\n",
       "      <td id=\"T_74088_row15_col0\" class=\"data row15 col0\" >9 đặc trưng(Adult Mortality, BMI, Polio, Diphtheria, HIV/AIDS, GDP, Thinness age 10-19, Thinness age 5-9, Income composition of resources) mũ 3</td>\n",
       "      <td id=\"T_74088_row15_col1\" class=\"data row15 col1\" >19.056831</td>\n",
       "    </tr>\n",
       "  </tbody>\n",
       "</table>\n"
      ],
      "text/plain": [
       "<pandas.io.formats.style.Styler at 0x2416471e0d0>"
      ]
     },
     "metadata": {},
     "output_type": "display_data"
    }
   ],
   "source": [
    "a=[\"2 đặc trưng(Adult Mortality,BMI)\", \"3 đặc trưng(Adult Mortality,BMI,Polio)\", \"4 đặc trưng(Adult Mortality,BMI,Polio,Diphtheria)\",\"5 đặc trưng(Adult Mortality, BMI, Polio, Diphtheria, HIV/AIDS)\", \"6 đặc trưng(Adult Mortality, BMI, Polio, Diphtheria, HIV/AIDS, GDP)\", \"7 đặc trưng(Adult Mortality, BMI, Polio, Diphtheria, HIV/AIDS, GDP, Thinness age 10-19)\",\"8 đặc trưng(Adult Mortality, BMI, Polio, Diphtheria, HIV/AIDS, GDP, Thinness age 10-19, Thinness age 5-9)\",\"9 đặc trưng(Adult Mortality, BMI, Polio, Diphtheria, HIV/AIDS, GDP, Thinness age 10-19, Thinness age 5-9, Income composition of resources)\",\"2 đặc trưng(Adult Mortality,BMI) mũ 3\", \"3 đặc trưng(Adult Mortality,BMI,Polio) mũ 3\", \"4 đặc trưng(Adult Mortality,BMI,Polio,Diphtheria) mũ 3\",\"5 đặc trưng(Adult Mortality, BMI, Polio, Diphtheria, HIV/AIDS) mũ 3\", \"6 đặc trưng(Adult Mortality, BMI, Polio, Diphtheria, HIV/AIDS, GDP) mũ 3\", \"7 đặc trưng(Adult Mortality, BMI, Polio, Diphtheria, HIV/AIDS, GDP, Thinness age 10-19) mũ 3\",\"8 đặc trưng(Adult Mortality, BMI, Polio, Diphtheria, HIV/AIDS, GDP, Thinness age 10-19, Thinness age 5-9) mũ 3\",\"9 đặc trưng(Adult Mortality, BMI, Polio, Diphtheria, HIV/AIDS, GDP, Thinness age 10-19, Thinness age 5-9, Income composition of resources) mũ 3\"]\n",
    "# Adult Mortality, BMI, Polio, Diphtheria, HIV/AIDS, GDP, Thinness age 10-19, Thinness age 5-9, Income composition of resources, Schooling\n",
    "data= list(zip([list for list in a], arr_m))\n",
    "df = pd.DataFrame(w_data,columns=['Mô hình','RMSE'])\n",
    "display_model = df.style.set_properties(**{'text-align': 'center'})\n",
    "display_model = display_model.set_table_styles([dict(selector = 'th', props=[('text-align', 'center')])])\n",
    "display(display_model)"
   ]
  },
  {
   "cell_type": "code",
   "execution_count": 69,
   "metadata": {},
   "outputs": [
    {
     "name": "stdout",
     "output_type": "stream",
     "text": [
      "7.3379852626993385\n",
      "[ 1.73671084e-02  1.54066222e-01  7.80981602e-02  1.82294109e-01\n",
      " -4.32676946e-01 -5.40471095e-06  7.09662791e-01  2.60263436e-01\n",
      "  5.36120768e+01]\n"
     ]
    }
   ],
   "source": [
    "rmse_2, w = task_a(X_train.iloc[:,0:9], y_train, X_test.iloc[:,0:9], y_test)\n",
    "print(rmse_2)\n",
    "print(w)"
   ]
  },
  {
   "cell_type": "markdown",
   "metadata": {},
   "source": [
    "<p style=\"text-align:center;\"><b>Công thức hồi quy</p>\n",
    "\n",
    "Life expectancy = 0.0173671084 * Adult Mortality + 0.0154066222 * BMI + 0.0780981602 * Polio + 0.182294109 * Diphtheria + (-0.432676946) * HIV/AIDS + (-0.00000540471095) * GDP + 0.709662791 * Thinness age 10-19 + 0. 260263436 * Thinness age 5-9 + 0.536120768 * Income composition of resources"
   ]
  }
 ],
 "metadata": {
  "kernelspec": {
   "display_name": "Python 3.9.12 ('base')",
   "language": "python",
   "name": "python3"
  },
  "language_info": {
   "codemirror_mode": {
    "name": "ipython",
    "version": 3
   },
   "file_extension": ".py",
   "mimetype": "text/x-python",
   "name": "python",
   "nbconvert_exporter": "python",
   "pygments_lexer": "ipython3",
   "version": "3.9.12"
  },
  "orig_nbformat": 4,
  "vscode": {
   "interpreter": {
    "hash": "04260a692bb2fccc11702e13e59beaeb580a87d1e54fb89b7f3e9c339504d3c0"
   }
  }
 },
 "nbformat": 4,
 "nbformat_minor": 2
}
